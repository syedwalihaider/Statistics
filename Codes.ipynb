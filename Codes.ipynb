{
 "cells": [
  {
   "cell_type": "markdown",
   "metadata": {},
   "source": [
    "# CDF and PDF of Normal Distribution"
   ]
  },
  {
   "cell_type": "code",
   "execution_count": null,
   "metadata": {},
   "outputs": [],
   "source": [
    "# On giving Z-score it will return cdf\n",
    "import scipy.stats as stats\n",
    "stats.norm.cdf(1.2)"
   ]
  },
  {
   "cell_type": "code",
   "execution_count": null,
   "metadata": {},
   "outputs": [],
   "source": [
    "# On giving cdf it return z value\n",
    "stats.norm.ppf(0.88493033)"
   ]
  },
  {
   "cell_type": "markdown",
   "metadata": {},
   "source": [
    "Datasets"
   ]
  },
  {
   "cell_type": "code",
   "execution_count": 1,
   "metadata": {},
   "outputs": [],
   "source": [
    "import pandas as pd\n",
    "import numpy as np\n",
    "import matplotlib.pyplot as plt\n",
    "import seaborn as sns\n",
    "import random\n",
    "%matplotlib inline"
   ]
  },
  {
   "cell_type": "code",
   "execution_count": null,
   "metadata": {},
   "outputs": [],
   "source": [
    "from sklearn.datasets import load_iris\n",
    "digit = load_iris()\n",
    "df = pd.DataFrame(digit.data,columns = digit.feature_names)\n",
    "df.head()\n",
    "df[\"target\"] = digit.target\n",
    "df[\"flower\"] = np.where(df.target==0,digit.target_names[0],np.where(df.target==1,digit.target_names[1],digit.target_names[2]))\n",
    "df.drop(\"target\",axis=1,inplace = True)\n",
    "df.head()"
   ]
  },
  {
   "cell_type": "markdown",
   "metadata": {},
   "source": [
    "Ploting Pdf and Cdf of a feature with different label categories(Inbuilt method)"
   ]
  },
  {
   "cell_type": "code",
   "execution_count": null,
   "metadata": {},
   "outputs": [],
   "source": [
    "# plotting pdf to see how the distribution of fa\n",
    "sns.FacetGrid(df,hue = \"flower\",size= 5).map(sns.distplot, \"petal width (cm)\")"
   ]
  },
  {
   "cell_type": "markdown",
   "metadata": {},
   "source": [
    "plotting cdf & pdf of a feature with different categories(from Scratch)"
   ]
  },
  {
   "cell_type": "code",
   "execution_count": null,
   "metadata": {},
   "outputs": [],
   "source": [
    "def pdf(series,bins):\n",
    "    bin_edges = []\n",
    "    start = np.min(series)\n",
    "    bin_width = (np.max(series)-np.min(series))/bins\n",
    "    while start<np.max(series):\n",
    "        start+=bin_width\n",
    "        bin_edges.append(start)\n",
    "    density ={}\n",
    "    for k in bin_edges:\n",
    "        density[k]=[]\n",
    "    for i in sorted(a):\n",
    "        for j in bin_edges:\n",
    "            if (i<j):\n",
    "                density[j]+=[i]\n",
    "                break\n",
    "    prob_den = {}\n",
    "    for p in density:\n",
    "        prob_den[p]=len(density[p])\n",
    "    return plt.bar(prob_den.keys(),prob_den.values())"
   ]
  },
  {
   "cell_type": "code",
   "execution_count": null,
   "metadata": {},
   "outputs": [],
   "source": [
    "setosa = df.loc[df[\"flower\"]==\"setosa\"]\n",
    "versicolor = df.loc[df[\"flower\"]==\"versicolor\"]\n",
    "virginica = df.loc[df[\"flower\"]==\"virginica\"]"
   ]
  },
  {
   "cell_type": "code",
   "execution_count": null,
   "metadata": {},
   "outputs": [],
   "source": [
    "counts, bin_edges = np.histogram(setosa[\"petal length (cm)\"],bins =7,density=True)\n",
    "pdf = counts/sum(counts)\n",
    "cdf = np.cumsum(pdf)\n",
    "plt.plot(bin_edges[1:],pdf)\n",
    "plt.plot(bin_edges[1:],cdf)\n",
    "print(pdf)\n",
    "\n",
    "counts, bin_edges = np.histogram(virginica[\"petal length (cm)\"],bins =6)\n",
    "pdf = counts/sum(counts)\n",
    "cdf = np.cumsum(pdf)\n",
    "plt.plot(bin_edges[1:],pdf)\n",
    "plt.plot(bin_edges[1:],cdf)\n",
    "print(pdf)\n",
    "\n",
    "counts, bin_edges = np.histogram(versicolor[\"petal length (cm)\"],bins =6)\n",
    "pdf = counts/sum(counts)\n",
    "cdf = np.cumsum(pdf)\n",
    "plt.plot(bin_edges[1:],pdf)\n",
    "plt.plot(bin_edges[1:],cdf)\n",
    "print(pdf)"
   ]
  },
  {
   "cell_type": "markdown",
   "metadata": {},
   "source": [
    "Statistical parameters"
   ]
  },
  {
   "cell_type": "code",
   "execution_count": null,
   "metadata": {},
   "outputs": [],
   "source": [
    "np.mean(df[\"sepal length (cm)\"])\n",
    "np.std(df[\"sepal length (cm)\"])"
   ]
  },
  {
   "cell_type": "code",
   "execution_count": null,
   "metadata": {},
   "outputs": [],
   "source": [
    "np.median(df[\"sepal length (cm)\"])"
   ]
  },
  {
   "cell_type": "code",
   "execution_count": null,
   "metadata": {},
   "outputs": [],
   "source": [
    "np.percentile(df[\"sepal length (cm)\"],np.arange(0,100,25))\n",
    "np.percentile(df[\"sepal length (cm)\"],90)"
   ]
  },
  {
   "cell_type": "code",
   "execution_count": null,
   "metadata": {},
   "outputs": [],
   "source": [
    "from statsmodels import robust\n",
    "robust.mad(df[\"sepal length (cm)\"])"
   ]
  },
  {
   "cell_type": "markdown",
   "metadata": {},
   "source": [
    "# Calculating skewness and kurtosis"
   ]
  },
  {
   "cell_type": "markdown",
   "metadata": {},
   "source": [
    "Kurtosis and Skew function using Scipy library"
   ]
  },
  {
   "cell_type": "code",
   "execution_count": null,
   "metadata": {},
   "outputs": [],
   "source": [
    "# Importing library\n",
    "from scipy.stats import skew\n",
    "# Calculate the skewness\n",
    "print(skew(df[\"sepal length (cm)\"], axis=0, bias=True))\n",
    "# positive skew means distribution is unsymmetrical and skewed on right side."
   ]
  },
  {
   "cell_type": "code",
   "execution_count": null,
   "metadata": {},
   "outputs": [],
   "source": [
    "# Importing library\n",
    "from scipy.stats import kurtosis\n",
    "# Calculate the kurtosis(fisher= True means Excess kurtosis)\n",
    "print(kurtosis(df[\"sepal length (cm)\"], axis=0, fisher=True, bias=True))\n",
    "# Negative excess kurtosis means tailness is less than normal(max and min lies\n",
    "# under mean +- 3sigma)"
   ]
  },
  {
   "cell_type": "code",
   "execution_count": null,
   "metadata": {},
   "outputs": [],
   "source": [
    "df[\"sepal length (cm)\"].describe()"
   ]
  },
  {
   "cell_type": "markdown",
   "metadata": {},
   "source": [
    "Skew and Kurtosis from scratch"
   ]
  },
  {
   "cell_type": "code",
   "execution_count": null,
   "metadata": {},
   "outputs": [],
   "source": [
    "def mean(data):\n",
    "    counts = sum(data)\n",
    "    n = len(data)\n",
    "    avg = counts/n\n",
    "    return avg\n",
    "mean(df[\"sepal length (cm)\"])"
   ]
  },
  {
   "cell_type": "code",
   "execution_count": null,
   "metadata": {},
   "outputs": [],
   "source": [
    "def skew(data):\n",
    "    m3 = sum([i**3 for i in (data-mean(data))])/len(data)\n",
    "    s3 = sum([i**2 for i in (data-mean(data))])/(len(data)-1)\n",
    "    b1 = m3/s3**1.5\n",
    "    return b1\n",
    "skew(df[\"sepal length (cm)\"])"
   ]
  },
  {
   "cell_type": "code",
   "execution_count": null,
   "metadata": {},
   "outputs": [],
   "source": [
    "def kurtosis(data,excess=False):\n",
    "    m4 = sum([i**4 for i in (data-mean(data))])/len(data)\n",
    "    m2 = sum([i**2 for i in (data-mean(data))])/len(data)\n",
    "    g2 = m4/m2**2\n",
    "    g3 = g2-3\n",
    "    if excess ==False:\n",
    "        return g2\n",
    "    else:\n",
    "        return g3\n",
    "kurtosis(df[\"sepal length (cm)\"],excess=True)"
   ]
  },
  {
   "cell_type": "markdown",
   "metadata": {},
   "source": [
    "# Standardizing data"
   ]
  },
  {
   "cell_type": "code",
   "execution_count": null,
   "metadata": {},
   "outputs": [],
   "source": [
    "from sklearn.preprocessing import StandardScaler\n",
    "object= StandardScaler()\n",
    "# standardization \n",
    "scale = object.fit_transform(digit.data)  # input should be 2D array\n",
    "print(scale)"
   ]
  },
  {
   "cell_type": "markdown",
   "metadata": {},
   "source": [
    "Standardization from Scratch"
   ]
  },
  {
   "cell_type": "code",
   "execution_count": null,
   "metadata": {},
   "outputs": [],
   "source": [
    "def mean(data):\n",
    "    avg = sum(data)/len(data)\n",
    "    return avg\n",
    "mean(digit.data)"
   ]
  },
  {
   "cell_type": "code",
   "execution_count": null,
   "metadata": {},
   "outputs": [],
   "source": [
    "def varianc(data):\n",
    "    deviation = (sum([i**2 for i in (data-mean(data))])/len(data))**.5\n",
    "    return deviation\n",
    "varianc(digit.data)"
   ]
  },
  {
   "cell_type": "code",
   "execution_count": null,
   "metadata": {},
   "outputs": [],
   "source": [
    "def standardscaler(data):\n",
    "    x_new = (data-mean(data))/varianc(data)\n",
    "    return x_new\n",
    "standardscaler(digit.data)"
   ]
  },
  {
   "cell_type": "markdown",
   "metadata": {},
   "source": [
    "# KDE(Kernel Density Estimation)"
   ]
  },
  {
   "cell_type": "code",
   "execution_count": null,
   "metadata": {},
   "outputs": [],
   "source": [
    "import seaborn as sns\n",
    "sns.histplot(df[\"petal length (cm)\"],kde = True)"
   ]
  },
  {
   "cell_type": "markdown",
   "metadata": {},
   "source": [
    "# QQ plot code"
   ]
  },
  {
   "cell_type": "code",
   "execution_count": null,
   "metadata": {},
   "outputs": [],
   "source": [
    "import numpy as np \n",
    "import pylab \n",
    "import scipy.stats as stats\n",
    "import matplotlib.pyplot as plt"
   ]
  },
  {
   "cell_type": "markdown",
   "metadata": {},
   "source": [
    "Using Probplot to find type of distribution"
   ]
  },
  {
   "cell_type": "code",
   "execution_count": null,
   "metadata": {},
   "outputs": [],
   "source": [
    "# Generating a dataset follows normal distribution\n",
    "# QQ plot is a scatter plot between all percentile values between two distribution.\n",
    "measurements = np.random.normal(loc = 0, scale = 1, size=10000)\n",
    "stats.probplot(measurements, dist=\"norm\", plot=pylab)\n",
    "pylab.show()"
   ]
  },
  {
   "cell_type": "code",
   "execution_count": null,
   "metadata": {},
   "outputs": [],
   "source": [
    "#when datapoints are very less\n",
    "measurements = np.random.normal(loc = 0, scale = 1, size=50)\n",
    "stats.probplot(measurements, dist=\"norm\", plot=pylab)\n",
    "pylab.show()"
   ]
  },
  {
   "cell_type": "code",
   "execution_count": null,
   "metadata": {
    "scrolled": true
   },
   "outputs": [],
   "source": [
    "distribution=np.random.uniform(1,10,size=1000)\n",
    "stats.probplot(distribution, dist=\"norm\",plot=pylab)\n",
    "pylab.show()"
   ]
  },
  {
   "cell_type": "code",
   "execution_count": null,
   "metadata": {},
   "outputs": [],
   "source": [
    "distribution=np.random.uniform(1,10,size=50)\n",
    "stats.probplot(distribution, dist=\"norm\",plot=pylab)\n",
    "pylab.show()"
   ]
  },
  {
   "cell_type": "markdown",
   "metadata": {},
   "source": [
    "Finding QQ plot via scatter plot between the percentile value of differnent disrtibution."
   ]
  },
  {
   "cell_type": "code",
   "execution_count": null,
   "metadata": {},
   "outputs": [],
   "source": [
    "dist1 = np.random.normal(loc=0,scale=1,size=1000)\n",
    "dist2 = np.random.normal(loc=10,scale=25,size=500)"
   ]
  },
  {
   "cell_type": "code",
   "execution_count": null,
   "metadata": {},
   "outputs": [],
   "source": [
    "def QQplot(dist1,dist2):\n",
    "    x1 = []\n",
    "    x2 = []\n",
    "    for i in range(0,101):\n",
    "        x1.append(np.percentile(dist1,i))\n",
    "        x2.append(np.percentile(dist2,i))\n",
    "    return plt.scatter(x1,x2)\n",
    "QQplot(dist1,dist2)"
   ]
  },
  {
   "cell_type": "code",
   "execution_count": null,
   "metadata": {},
   "outputs": [],
   "source": [
    "QQplot(df[\"petal length (cm)\"],df[\"petal width (cm)\"])"
   ]
  },
  {
   "cell_type": "markdown",
   "metadata": {},
   "source": [
    "# CLT code"
   ]
  },
  {
   "cell_type": "code",
   "execution_count": null,
   "metadata": {},
   "outputs": [],
   "source": [
    "# CLT is done to to predict mean and standard deviation of population with \n",
    "# more confidence\n",
    "import numpy as np\n",
    "import random\n",
    "population = [random.randint (0, 1000) for x in range (1000)] #list of numbers"
   ]
  },
  {
   "cell_type": "code",
   "execution_count": null,
   "metadata": {
    "scrolled": true
   },
   "outputs": [],
   "source": [
    "# random.sample apply on list not on array\n",
    "sample1= random.sample(population,50)\n",
    "print(sample1)"
   ]
  },
  {
   "cell_type": "code",
   "execution_count": null,
   "metadata": {},
   "outputs": [],
   "source": [
    "mean=np.mean(population)\n",
    "print(mean)"
   ]
  },
  {
   "cell_type": "code",
   "execution_count": null,
   "metadata": {},
   "outputs": [],
   "source": [
    "std=np.std(population)\n",
    "print(std)"
   ]
  },
  {
   "cell_type": "code",
   "execution_count": null,
   "metadata": {},
   "outputs": [],
   "source": [
    "# mean of a sample from population\n",
    "mean1=np.mean(sample1)\n",
    "mean1"
   ]
  },
  {
   "cell_type": "code",
   "execution_count": null,
   "metadata": {},
   "outputs": [],
   "source": [
    "# standard deviation of a sample from population\n",
    "std1=np.std(sample1)\n",
    "std1"
   ]
  },
  {
   "cell_type": "code",
   "execution_count": null,
   "metadata": {},
   "outputs": [],
   "source": [
    "# here sampling distrinution of sample mean will follow gaussian distribution\n",
    "# and it has mean = population mean and std = (population std/n**1/2) \n",
    "# where n is size of a sample.\n",
    "def sampling_distribution(distribution,sample_count,sample_size):\n",
    "    sampling_dist=[]\n",
    "    for i in range(sample_count):\n",
    "        sample1 = random.sample(distribution,sample_size)\n",
    "        sampling_dist.append(np.mean(sample1))\n",
    "    mean_sample_dist = np.mean(sampling_dist)\n",
    "    std_sample_dist = np.std(sampling_dist)\n",
    "    return mean_sample_dist, std_sample_dist"
   ]
  },
  {
   "cell_type": "code",
   "execution_count": null,
   "metadata": {},
   "outputs": [],
   "source": [
    "# here if we multiply std with n**1/2, we will get population std\n",
    "sampling_distribution(population,500,49)"
   ]
  },
  {
   "cell_type": "markdown",
   "metadata": {},
   "source": [
    "# Randomly sample data point(Uniform)"
   ]
  },
  {
   "cell_type": "markdown",
   "metadata": {},
   "source": [
    "Using inbuilt function"
   ]
  },
  {
   "cell_type": "code",
   "execution_count": null,
   "metadata": {},
   "outputs": [],
   "source": [
    "import numpy as np\n",
    "import random\n",
    "df = np.random.uniform(0,100,150)             # Return array\n",
    "s1 = np.array(random.sample(list(df),30))     # np.array convert to array,\n",
    "s1                                            # random.sample take list,dict"
   ]
  },
  {
   "cell_type": "markdown",
   "metadata": {},
   "source": [
    "Uniformly Sample data from Scratch"
   ]
  },
  {
   "cell_type": "code",
   "execution_count": null,
   "metadata": {},
   "outputs": [],
   "source": [
    "import numpy as np\n",
    "import random\n",
    "sampled=[]\n",
    "def uniform_sample(data,m):\n",
    "    p=m/len(data)\n",
    "    for i in range(0,len(data)):\n",
    "        a=np.random.random()\n",
    "        if a<=p:\n",
    "            sampled.append(data[i])\n",
    "    x=len(sampled)\n",
    "    return sampled,x\n",
    "df1 =np.random.uniform(0,100,150)\n",
    "uniform_sample(df1,30)\n",
    "#as the size of data increases with sample, x tends to actual proportion i.e p"
   ]
  },
  {
   "cell_type": "markdown",
   "metadata": {},
   "source": [
    "# How to check if given distribution is log normal"
   ]
  },
  {
   "cell_type": "code",
   "execution_count": null,
   "metadata": {},
   "outputs": [],
   "source": [
    "import numpy\n",
    "import random\n",
    "import scipy.stats as stats\n",
    "import pylab\n",
    "dist_1 = np.random.lognormal(0,1,1000)\n",
    "distlog = np.log(dist_1)\n",
    "stats.probplot(distlog,dist=\"norm\",plot=pylab)\n",
    "pylab.show()"
   ]
  },
  {
   "cell_type": "markdown",
   "metadata": {},
   "source": [
    "Converting normal distribution to lognormal"
   ]
  },
  {
   "cell_type": "code",
   "execution_count": null,
   "metadata": {},
   "outputs": [],
   "source": [
    "# Generating normal distribution\n",
    "norm_dist= np.random.normal(loc=0,scale=1,size=100)\n",
    "# Converting normal to lognormal\n",
    "lognorm_dist= np.exp(norm_dist)"
   ]
  },
  {
   "cell_type": "markdown",
   "metadata": {},
   "source": [
    "properties of lognormal distribution"
   ]
  },
  {
   "cell_type": "code",
   "execution_count": null,
   "metadata": {},
   "outputs": [],
   "source": [
    "# 68-95-99.7 rule can be applied to exp(X), where X is lognormal\n",
    "# 0 is mean and 1 is std of corresponding normal distribution.\n",
    "d = pd.DataFrame(np.random.lognormal(0,1,1000))\n",
    "d.columns = [\"num\"]\n",
    "a = d.loc[d[\"num\"]>=np.exp(0-1)]\n",
    "b = a.loc[a[\"num\"]<=np.exp(0+1)]\n",
    "b.shape"
   ]
  },
  {
   "cell_type": "markdown",
   "metadata": {},
   "source": [
    "# log-log plot for pareto distribution"
   ]
  },
  {
   "cell_type": "markdown",
   "metadata": {},
   "source": [
    "log log plot from scratch"
   ]
  },
  {
   "cell_type": "code",
   "execution_count": null,
   "metadata": {},
   "outputs": [],
   "source": [
    "# Generating pareto distribution alpha=2 and x_m=3\n",
    "pareto_1 = (np.random.pareto(.1,10000)+1)*2\n",
    "pareto_2 = (np.random.pareto(.15,10000)+1)*3\n",
    "x = []\n",
    "y = []\n",
    "def loglog(dist1,dist2):\n",
    "    for i in range(0,101):\n",
    "        x.append(np.percentile(dist1,i))\n",
    "        y.append(np.percentile(dist2,i))\n",
    "    xlog = np.log(x)\n",
    "    ylog = np.log(y)\n",
    "    plt.scatter(xlog,ylog)\n",
    "    return plt.show()\n",
    "loglog(pareto_1,pareto_2)"
   ]
  },
  {
   "cell_type": "markdown",
   "metadata": {},
   "source": [
    "# Box Cox Transformation"
   ]
  },
  {
   "cell_type": "code",
   "execution_count": null,
   "metadata": {
    "scrolled": true
   },
   "outputs": [],
   "source": [
    "# Generating a distribution\n",
    "pareto_dist=(np.random.pareto(1,1000)+1)*3\n",
    "stats.probplot(pareto_dist,dist='norm',plot=pylab)\n",
    "pylab.show()"
   ]
  },
  {
   "cell_type": "code",
   "execution_count": null,
   "metadata": {},
   "outputs": [],
   "source": [
    "# here boxcox funtion will return \"labda\" and normal distributed form of \n",
    "# given distribution.\n",
    "modify_pareto,lamb=stats.boxcox(pareto_dist)\n",
    "stats.probplot(modify_pareto,dist='uniform',plot=pylab)\n",
    "pylab.show()\n",
    "print(\"lambda\",lamb)"
   ]
  },
  {
   "cell_type": "markdown",
   "metadata": {},
   "source": [
    "# Covariance"
   ]
  },
  {
   "cell_type": "markdown",
   "metadata": {},
   "source": [
    "Finding Covariance using np.cov()"
   ]
  },
  {
   "cell_type": "code",
   "execution_count": null,
   "metadata": {},
   "outputs": [],
   "source": [
    "import numpy as np\n",
    "import seaborn as sns\n",
    "import pandas as pd\n",
    "from sklearn.datasets import load_iris\n",
    "iris = load_iris()\n",
    "df = pd.DataFrame(iris.data,columns=iris.feature_names)\n",
    "cov_mat = np.cov(df.T)\n",
    "sns.heatmap(cov_mat,annot = True)"
   ]
  },
  {
   "cell_type": "markdown",
   "metadata": {},
   "source": [
    "Calculating covariance from scratch"
   ]
  },
  {
   "cell_type": "code",
   "execution_count": null,
   "metadata": {},
   "outputs": [],
   "source": [
    "def covariance(dataset):\n",
    "    n=dataset.shape[1]\n",
    "    m=dataset.shape[0]\n",
    "    covar=[]\n",
    "    for i in range(0,n):\n",
    "        for j in range(0,n):\n",
    "            c = dataset.iloc[:,i]-np.mean(dataset.iloc[:,i])\n",
    "            d = dataset.iloc[:,j]-np.mean(dataset.iloc[:,j])\n",
    "            covar.append(sum(c*d)/m)\n",
    "    return np.array(covar).reshape(n,n)\n",
    "covariance(digit)"
   ]
  },
  {
   "cell_type": "markdown",
   "metadata": {},
   "source": [
    "# Pearson Correlation"
   ]
  },
  {
   "cell_type": "markdown",
   "metadata": {},
   "source": [
    "Pearson Correlation Coefficient"
   ]
  },
  {
   "cell_type": "code",
   "execution_count": null,
   "metadata": {},
   "outputs": [],
   "source": [
    "cor_mat = np.corrcoef(digit.T)\n",
    "cor_mat.shape\n",
    "print(cor_mat)\n",
    "print(sns.heatmap(cor_mat,annot=True))"
   ]
  },
  {
   "cell_type": "markdown",
   "metadata": {},
   "source": [
    "Pearson Correlation from Scratch"
   ]
  },
  {
   "cell_type": "code",
   "execution_count": null,
   "metadata": {},
   "outputs": [],
   "source": [
    "def correlation(dataset):\n",
    "    n = dataset.shape[1]\n",
    "    c = []\n",
    "    for i in range(0,n):\n",
    "        for j in range(0,n):\n",
    "            a = dataset.iloc[:,i]-np.mean(dataset.iloc[:,i])\n",
    "            b = dataset.iloc[:,j]-np.mean(dataset.iloc[:,j])\n",
    "            var_a = (sum([s**2 for s in a]))**.5\n",
    "            var_b = (sum([s**2 for s in b]))**.5\n",
    "            c.append(sum(a*b)/(var_a*var_b))\n",
    "    return np.array(c).reshape(n,n)\n",
    "correlation(digit)"
   ]
  },
  {
   "cell_type": "markdown",
   "metadata": {},
   "source": [
    "# Spearman Rank Correlation Coeff.(SRCC)"
   ]
  },
  {
   "cell_type": "code",
   "execution_count": null,
   "metadata": {},
   "outputs": [],
   "source": [
    "import scipy.stats as stats\n",
    "a = stats.spearmanr(digit)\n",
    "print(dir(a))\n",
    "sns.heatmap(a.correlation,annot=True)      # correlation return srcc values here."
   ]
  },
  {
   "cell_type": "markdown",
   "metadata": {},
   "source": [
    "SRCC from Scratch"
   ]
  },
  {
   "cell_type": "code",
   "execution_count": null,
   "metadata": {},
   "outputs": [],
   "source": [
    "digit[\"rank_sepal length (cm)\"] = digit[\"sepal length (cm)\"].rank(method=\"average\")\n",
    "digit[\"rank_sepal width (cm)\"] = digit[\"sepal width (cm)\"].rank(method=\"average\")\n",
    "digit[\"rank_petal length (cm)\"] = digit[\"petal length (cm)\"].rank(method=\"average\")\n",
    "digit[\"rank_petal width (cm)\"] = digit[\"petal width (cm)\"].rank(method=\"average\")\n",
    "digit.drop([\"sepal length (cm)\",\"sepal width (cm)\",\"petal length (cm)\",\"petal width (cm)\"],axis=1,inplace = True)\n",
    "def srcc(dataset):\n",
    "    n = dataset.shape[1]\n",
    "    c = []\n",
    "    for i in range(0,n):\n",
    "        for j in range(0,n):\n",
    "            a = dataset.iloc[:,i]-np.mean(dataset.iloc[:,i])\n",
    "            b = dataset.iloc[:,j]-np.mean(dataset.iloc[:,j])\n",
    "            var_a = (sum([s**2 for s in a]))**.5\n",
    "            var_b = (sum([s**2 for s in b]))**.5\n",
    "            c.append(sum(a*b)/(var_a*var_b))\n",
    "    return np.array(c).reshape(n,n)\n",
    "print(srcc(digit))"
   ]
  },
  {
   "cell_type": "markdown",
   "metadata": {},
   "source": [
    "# Bootstraping code sample"
   ]
  },
  {
   "cell_type": "code",
   "execution_count": null,
   "metadata": {},
   "outputs": [],
   "source": [
    "def confidence_interval(dataset):\n",
    "    n = len(dataset)\n",
    "    m = []\n",
    "    for i in range(1000):\n",
    "        sample = np.random.choice(dataset,size=n)\n",
    "        m.append(np.median(sample))\n",
    "    median_dist = np.array(m)\n",
    "    conf_inter = [np.percentile(median_dist,2.5),np.percentile(median_dist,97.5)]\n",
    "    return conf_inter\n",
    "x = np.array([180,162,158,172,168,150,171,183,165,176])\n",
    "confidence_interval(x)"
   ]
  },
  {
   "cell_type": "markdown",
   "metadata": {},
   "source": [
    "# KS test"
   ]
  },
  {
   "cell_type": "code",
   "execution_count": 3,
   "metadata": {},
   "outputs": [
    {
     "data": {
      "image/png": "[encoded data removed]",
      "text/plain": [
       "<Figure size 432x288 with 1 Axes>"
      ]
     },
     "metadata": {
      "needs_background": "light"
     },
     "output_type": "display_data"
    },
    {
     "data": {
      "text/plain": [
       "KstestResult(statistic=0.038572754731056924, pvalue=0.09938678808337997)"
      ]
     },
     "execution_count": 3,
     "metadata": {},
     "output_type": "execute_result"
    }
   ],
   "source": [
    "from scipy import stats\n",
    "dist = np.random.normal(0,1,1000)\n",
    "sns.kdeplot(dist)\n",
    "sns.kdeplot(dist,cumulative=True)\n",
    "plt.show();\n",
    "stats.kstest(dist,\"norm\")\n",
    "# statistic is maximum difference in distance between distributions\n",
    "# if pvalue is large accept the null hypothesis i.e distribution are same"
   ]
  },
  {
   "cell_type": "markdown",
   "metadata": {},
   "source": [
    "# Proportional Sampling"
   ]
  },
  {
   "cell_type": "code",
   "execution_count": 27,
   "metadata": {},
   "outputs": [
    {
     "data": {
      "image/png": "[encoded data removed]",
      "text/plain": [
       "<Figure size 432x288 with 1 Axes>"
      ]
     },
     "metadata": {
      "needs_background": "light"
     },
     "output_type": "display_data"
    }
   ],
   "source": [
    "def proportional_sampling(data):\n",
    "    n = len(data)\n",
    "    prop_list = []\n",
    "    data.sort()\n",
    "    norm_list = np.cumsum(data/sum(data))\n",
    "    for i in range(1000):\n",
    "        a = np.random.random()\n",
    "        for j in range(n):\n",
    "            if a<norm_list[j]:\n",
    "                prop_list.append(data[j])\n",
    "                break\n",
    "    return plt.hist(prop_list)\n",
    "arr = np.array([2,4,6,8,10])\n",
    "proportional_sampling(arr);"
   ]
  }
 ],
 "metadata": {
  "kernelspec": {
   "display_name": "Python 3",
   "language": "python",
   "name": "python3"
  },
  "language_info": {
   "codemirror_mode": {
    "name": "ipython",
    "version": 3
   },
   "file_extension": ".py",
   "mimetype": "text/x-python",
   "name": "python",
   "nbconvert_exporter": "python",
   "pygments_lexer": "ipython3",
   "version": "3.8.5"
  }
 },
 "nbformat": 4,
 "nbformat_minor": 4
}
